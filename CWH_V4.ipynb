{
  "nbformat": 4,
  "nbformat_minor": 0,
  "metadata": {
    "colab": {
      "provenance": [],
      "authorship_tag": "ABX9TyNP0G+zEtBunjm0LD1Qe7UJ",
      "include_colab_link": true
    },
    "kernelspec": {
      "name": "python3",
      "display_name": "Python 3"
    },
    "language_info": {
      "name": "python"
    }
  },
  "cells": [
    {
      "cell_type": "markdown",
      "metadata": {
        "id": "view-in-github",
        "colab_type": "text"
      },
      "source": [
        "<a href=\"https://colab.research.google.com/github/tasnimislamraisa/Python_Learning/blob/cwh/CWH_V4.ipynb\" target=\"_parent\"><img src=\"https://colab.research.google.com/assets/colab-badge.svg\" alt=\"Open In Colab\"/></a>"
      ]
    },
    {
      "cell_type": "code",
      "execution_count": 27,
      "metadata": {
        "id": "c26K2aAt8_lf"
      },
      "outputs": [],
      "source": [
        "import numpy as np"
      ]
    },
    {
      "cell_type": "code",
      "source": [
        "array1=np.array([[3,2,5,7,0],[1,5,6,0,8]])\n",
        "print(array1)\n",
        "print(type(array1))"
      ],
      "metadata": {
        "colab": {
          "base_uri": "https://localhost:8080/"
        },
        "id": "JDwCMn3_AfRU",
        "outputId": "f3acc71d-a468-4150-9846-d9f1859d7002"
      },
      "execution_count": 28,
      "outputs": [
        {
          "output_type": "stream",
          "name": "stdout",
          "text": [
            "[[3 2 5 7 0]\n",
            " [1 5 6 0 8]]\n",
            "<class 'numpy.ndarray'>\n"
          ]
        }
      ]
    },
    {
      "cell_type": "code",
      "source": [
        "array1.shape\n",
        "#(row,column)"
      ],
      "metadata": {
        "colab": {
          "base_uri": "https://localhost:8080/"
        },
        "id": "mXWfoEiLA6fS",
        "outputId": "6e18e9b9-995d-4c5e-c997-b9eb43b331fb"
      },
      "execution_count": 29,
      "outputs": [
        {
          "output_type": "execute_result",
          "data": {
            "text/plain": [
              "(2, 5)"
            ]
          },
          "metadata": {},
          "execution_count": 29
        }
      ]
    },
    {
      "cell_type": "code",
      "source": [
        "array1.dtype"
      ],
      "metadata": {
        "colab": {
          "base_uri": "https://localhost:8080/"
        },
        "id": "G9xXdV0uBZeP",
        "outputId": "d98bbd36-3e11-4e22-c498-a46e49411bb2"
      },
      "execution_count": 30,
      "outputs": [
        {
          "output_type": "execute_result",
          "data": {
            "text/plain": [
              "dtype('int64')"
            ]
          },
          "metadata": {},
          "execution_count": 30
        }
      ]
    },
    {
      "cell_type": "code",
      "source": [
        "#(row,column)\n",
        "np.zeros((4,6))"
      ],
      "metadata": {
        "colab": {
          "base_uri": "https://localhost:8080/"
        },
        "id": "6uhGOCwKCJ8k",
        "outputId": "e28a89a4-0418-41ae-fbbf-e6dd1af208b9"
      },
      "execution_count": 31,
      "outputs": [
        {
          "output_type": "execute_result",
          "data": {
            "text/plain": [
              "array([[0., 0., 0., 0., 0., 0.],\n",
              "       [0., 0., 0., 0., 0., 0.],\n",
              "       [0., 0., 0., 0., 0., 0.],\n",
              "       [0., 0., 0., 0., 0., 0.]])"
            ]
          },
          "metadata": {},
          "execution_count": 31
        }
      ]
    },
    {
      "cell_type": "code",
      "source": [
        "np.ones(6)"
      ],
      "metadata": {
        "colab": {
          "base_uri": "https://localhost:8080/"
        },
        "id": "ElgDgwlSDr9f",
        "outputId": "bf7551db-5f02-49b4-bc30-6ef088b165e7"
      },
      "execution_count": 32,
      "outputs": [
        {
          "output_type": "execute_result",
          "data": {
            "text/plain": [
              "array([1., 1., 1., 1., 1., 1.])"
            ]
          },
          "metadata": {},
          "execution_count": 32
        }
      ]
    },
    {
      "cell_type": "code",
      "source": [
        "np.empty((4,6))"
      ],
      "metadata": {
        "colab": {
          "base_uri": "https://localhost:8080/"
        },
        "id": "w2VXjg56D5Qw",
        "outputId": "4788287c-3a84-4dd8-f1fe-80f54f62fc17"
      },
      "execution_count": 33,
      "outputs": [
        {
          "output_type": "execute_result",
          "data": {
            "text/plain": [
              "array([[0., 0., 0., 0., 0., 0.],\n",
              "       [0., 0., 0., 0., 0., 0.],\n",
              "       [0., 0., 0., 0., 0., 0.],\n",
              "       [0., 0., 0., 0., 0., 0.]])"
            ]
          },
          "metadata": {},
          "execution_count": 33
        }
      ]
    },
    {
      "cell_type": "code",
      "source": [
        "#difference between np.zeros and np.empty\n",
        "\n",
        "# np.zeros creates an array filled with zeros.\n",
        "# np.empty creates an array without initializing its values.  It's faster, but the initial contents are unpredictable (garbage values).\n",
        "# It's important to assign values to an array created with np.empty before using it.\n",
        "\n",
        "# Example demonstrating the difference\n",
        "import numpy as np\n",
        "\n",
        "zeros_array = np.zeros((2, 3))\n",
        "print(\"Zeros array:\\n\", zeros_array)\n",
        "\n",
        "empty_array = np.empty((2, 3))\n",
        "print(\"Empty array:\\n\", empty_array)"
      ],
      "metadata": {
        "colab": {
          "base_uri": "https://localhost:8080/"
        },
        "id": "4-JAFM7CD_bm",
        "outputId": "15fcb837-f879-4e58-b072-e6f2ea6b142f"
      },
      "execution_count": 34,
      "outputs": [
        {
          "output_type": "stream",
          "name": "stdout",
          "text": [
            "Zeros array:\n",
            " [[0. 0. 0.]\n",
            " [0. 0. 0.]]\n",
            "Empty array:\n",
            " [[0. 0. 0.]\n",
            " [0. 0. 0.]]\n"
          ]
        }
      ]
    },
    {
      "cell_type": "code",
      "source": [
        "print(array1)"
      ],
      "metadata": {
        "colab": {
          "base_uri": "https://localhost:8080/"
        },
        "id": "WUPgtBAJFFXd",
        "outputId": "17f2bcb7-215b-4578-e490-e28f2a6f30c6"
      },
      "execution_count": 40,
      "outputs": [
        {
          "output_type": "stream",
          "name": "stdout",
          "text": [
            "[[3 2 5 7 0]\n",
            " [1 5 6 0 8]]\n"
          ]
        }
      ]
    },
    {
      "cell_type": "code",
      "source": [
        "array1*array1"
      ],
      "metadata": {
        "colab": {
          "base_uri": "https://localhost:8080/"
        },
        "id": "Q4qxD5GwEQr0",
        "outputId": "ad1d78b2-3f73-492c-ead5-16807b7f95eb"
      },
      "execution_count": 41,
      "outputs": [
        {
          "output_type": "execute_result",
          "data": {
            "text/plain": [
              "array([[ 9,  4, 25, 49,  0],\n",
              "       [ 1, 25, 36,  0, 64]])"
            ]
          },
          "metadata": {},
          "execution_count": 41
        }
      ]
    },
    {
      "cell_type": "code",
      "source": [
        "1/array1"
      ],
      "metadata": {
        "colab": {
          "base_uri": "https://localhost:8080/"
        },
        "id": "HwWdZFI_FU25",
        "outputId": "e3c330ee-33ad-4456-d583-31b98abd736c"
      },
      "execution_count": 42,
      "outputs": [
        {
          "output_type": "stream",
          "name": "stderr",
          "text": [
            "<ipython-input-42-38a290605690>:1: RuntimeWarning: divide by zero encountered in divide\n",
            "  1/array1\n"
          ]
        },
        {
          "output_type": "execute_result",
          "data": {
            "text/plain": [
              "array([[0.33333333, 0.5       , 0.2       , 0.14285714,        inf],\n",
              "       [1.        , 0.2       , 0.16666667,        inf, 0.125     ]])"
            ]
          },
          "metadata": {},
          "execution_count": 42
        }
      ]
    },
    {
      "cell_type": "markdown",
      "source": [
        "# **Slicing**"
      ],
      "metadata": {
        "id": "XHzQcbkoF4IH"
      }
    },
    {
      "cell_type": "code",
      "source": [
        "# prompt: slicing\n",
        "\n",
        "# Slicing\n",
        "print(array1[0, :])  # Accessing the first row\n",
        "print(array1[:, 0])  # Accessing the first column\n",
        "print(array1[0, 1:4])  # Accessing elements from index 1 to 3 in the first row\n",
        "print(array1[0, ::-1]) #reversing the first row\n",
        "print(array1[::-1,:]) #reversing the array"
      ],
      "metadata": {
        "id": "4A6E3COmF8Vo"
      },
      "execution_count": null,
      "outputs": []
    }
  ]
}