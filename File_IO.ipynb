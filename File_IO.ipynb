{
  "nbformat": 4,
  "nbformat_minor": 0,
  "metadata": {
    "colab": {
      "provenance": [],
      "authorship_tag": "ABX9TyOPB1T5JskP7LfZW9RfI9h1",
      "include_colab_link": true
    },
    "kernelspec": {
      "name": "python3",
      "display_name": "Python 3"
    },
    "language_info": {
      "name": "python"
    }
  },
  "cells": [
    {
      "cell_type": "markdown",
      "metadata": {
        "id": "view-in-github",
        "colab_type": "text"
      },
      "source": [
        "<a href=\"https://colab.research.google.com/github/TasnimIslamRaisa/Python_Learning/blob/cwh/File_IO.ipynb\" target=\"_parent\"><img src=\"https://colab.research.google.com/assets/colab-badge.svg\" alt=\"Open In Colab\"/></a>"
      ]
    },
    {
      "cell_type": "code",
      "source": [
        "# file handling\n",
        "\n",
        "# Create a new file and write to it\n",
        "with open(\"myfile.txt\", \"w\") as f:\n",
        "    f.write(\"This is the first line.\\n\")\n",
        "    f.write(\"This is the second line.\\n\")\n",
        "\n",
        "# Read from the file\n",
        "with open(\"myfile.txt\", \"r\") as f:\n",
        "    contents = f.read()\n",
        "    print(contents)\n",
        "\n",
        "# Append to the file\n",
        "with open(\"myfile.txt\", \"a\") as f:\n",
        "    f.write(\"This is the third line.\\n\")\n",
        "\n",
        "# Read line by line\n",
        "with open(\"myfile.txt\", \"r\") as f:\n",
        "    for line in f:\n",
        "        print(line, end=\"\") # end=\"\" prevents extra newline\n",
        "\n",
        "\n",
        "# Check if a file exists\n",
        "import os\n",
        "if os.path.exists(\"myfile.txt\"):\n",
        "    print(\"\\nmyfile.txt exists\")\n",
        "else:\n",
        "    print(\"\\nmyfile.txt does not exist\")\n",
        "\n",
        "# Delete a file\n",
        "# Be careful with this!\n",
        "# if os.path.exists(\"myfile.txt\"):\n",
        "#    os.remove(\"myfile.txt\")\n",
        "#    print(\"\\nmyfile.txt has been deleted\")\n"
      ],
      "metadata": {
        "id": "2VGrX4lFsj0h",
        "colab": {
          "base_uri": "https://localhost:8080/"
        },
        "outputId": "6e3ea71c-9785-4076-e689-140a25a5efa4"
      },
      "execution_count": 1,
      "outputs": [
        {
          "output_type": "stream",
          "name": "stdout",
          "text": [
            "This is the first line.\n",
            "This is the second line.\n",
            "\n",
            "This is the first line.\n",
            "This is the second line.\n",
            "This is the third line.\n",
            "\n",
            "myfile.txt exists\n"
          ]
        }
      ]
    }
  ]
}