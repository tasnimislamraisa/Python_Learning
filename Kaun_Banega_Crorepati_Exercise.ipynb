{
  "nbformat": 4,
  "nbformat_minor": 0,
  "metadata": {
    "colab": {
      "provenance": [],
      "authorship_tag": "ABX9TyO71D5Ve1DWcINTcNc4sYuX",
      "include_colab_link": true
    },
    "kernelspec": {
      "name": "python3",
      "display_name": "Python 3"
    },
    "language_info": {
      "name": "python"
    }
  },
  "cells": [
    {
      "cell_type": "markdown",
      "metadata": {
        "id": "view-in-github",
        "colab_type": "text"
      },
      "source": [
        "<a href=\"https://colab.research.google.com/github/TasnimIslamRaisa/Python_Learning/blob/cwh/Kaun_Banega_Crorepati_Exercise.ipynb\" target=\"_parent\"><img src=\"https://colab.research.google.com/assets/colab-badge.svg\" alt=\"Open In Colab\"/></a>"
      ]
    },
    {
      "cell_type": "code",
      "execution_count": null,
      "metadata": {
        "id": "R4YvkrQDj90b"
      },
      "outputs": [],
      "source": [
        "def display_question(question, level):\n",
        "    \"\"\"Display the question and options.\"\"\"\n",
        "    print(f\"Question for Rs.{level}:\")\n",
        "    print(f\"{question[0]}\")\n",
        "    print(f\"1. {question[1]}\")\n",
        "    print(f\"2. {question[2]}\")\n",
        "    print(f\"3. {question[3]}\")\n",
        "    print(f\"4. {question[4]}\")\n",
        "\n",
        "def get_user_answer():\n",
        "    \"\"\"Get the user's answer and return it.\"\"\"\n",
        "    return int(input(\"Enter Your Answer (1-4): \"))\n",
        "\n",
        "def play_game(questions, levels):\n",
        "    \"\"\"Main function to play the game.\"\"\"\n",
        "    money = 0\n",
        "\n",
        "    for l in range(len(questions)):\n",
        "        display_question(questions[l], levels[l])  # Display the question\n",
        "        reply = get_user_answer()  # Get user's answer\n",
        "        print()\n",
        "\n",
        "        if reply == questions[l][-1]:  # Check if the answer is correct\n",
        "            print(f\"Correct Answer! You have won Rs.{levels[l]}\")\n",
        "            money += levels[l]  # Add the level's money to the total\n",
        "        else:\n",
        "            print(\"Wrong Answer\")\n",
        "            break\n",
        "\n",
        "        print(f\"Your take-home money is Rs.{money}\\n\")  # Display current total money\n",
        "\n",
        "    print(f\"Game Over! Your final amount is Rs.{money}\")  # Final amount after the game ends\n",
        "\n",
        "# A fun game\n",
        "# Kaun Banega Crorepati questions with options\n",
        "questions = [\n",
        "    [\"What is the capital of India?\", \"Mumbai\", \"Delhi\", \"Chennai\", \"Kolkata\", 2],\n",
        "    [\"Which is the largest continent?\", \"Asia\", \"Europe\", \"Africa\", \"Australia\", 1],\n",
        "    [\"Which animal is known as the 'Ship of the Desert'?\", \"Horse\", \"Camel\", \"Elephant\", \"Lion\", 2],\n",
        "    [\"How many colors are there in a rainbow?\", \"5\", \"6\", \"7\", \"8\", 3],\n",
        "    [\"Which is the largest mammal?\", \"Elephant\", \"Whale\", \"Shark\", \"Giraffe\", 2],\n",
        "    [\"What is the national currency of the United States?\", \"Dollar\", \"Pound\", \"Euro\", \"Yen\", 1],\n",
        "    [\"How many days are there in a leap year?\", \"364\", \"365\", \"366\", \"367\", 3],\n",
        "    [\"Which planet is closest to the Sun?\", \"Mars\", \"Earth\", \"Mercury\", \"Venus\", 3],\n",
        "    [\"What is H2O commonly known as?\", \"Salt\", \"Oxygen\", \"Water\", \"Hydrogen\", 3],\n",
        "    [\"How many legs does a spider have?\", \"6\", \"8\", \"10\", \"12\", 2],\n",
        "    [\"Which country is known as the Land of the Rising Sun?\", \"China\", \"Japan\", \"India\", \"Thailand\", 2],\n",
        "    [\"Who invented the telephone?\", \"Albert Einstein\", \"Isaac Newton\", \"Alexander Graham Bell\", \"Nikola Tesla\", 3],\n",
        "    [\"Which festival is known as the Festival of Lights?\", \"Eid\", \"Christmas\", \"Diwali\", \"Holi\", 3],\n",
        "    [\"What is the smallest planet in our solar system?\", \"Venus\", \"Earth\", \"Mercury\", \"Mars\", 3]\n",
        "]\n",
        "levels = [1000, 2000, 3000, 5000, 10000, 20000, 40000, 80000, 160000, 320000, 640000, 1250000, 2500000, 10000000]\n",
        "\n",
        "# Start the game\n",
        "play_game(questions, levels)\n"
      ]
    }
  ]
}