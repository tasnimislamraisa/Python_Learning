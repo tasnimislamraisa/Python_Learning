{
  "nbformat": 4,
  "nbformat_minor": 0,
  "metadata": {
    "colab": {
      "provenance": [],
      "authorship_tag": "ABX9TyM0c/RcbHy6x+gB9qhryiya",
      "include_colab_link": true
    },
    "kernelspec": {
      "name": "python3",
      "display_name": "Python 3"
    },
    "language_info": {
      "name": "python"
    }
  },
  "cells": [
    {
      "cell_type": "markdown",
      "metadata": {
        "id": "view-in-github",
        "colab_type": "text"
      },
      "source": [
        "<a href=\"https://colab.research.google.com/github/TasnimIslamRaisa/Python_Learning/blob/cwh/OOP_in_python.ipynb\" target=\"_parent\"><img src=\"https://colab.research.google.com/assets/colab-badge.svg\" alt=\"Open In Colab\"/></a>"
      ]
    },
    {
      "cell_type": "markdown",
      "source": [
        "# **Object Oriented Programming**"
      ],
      "metadata": {
        "id": "gv3fWBvOVP3T"
      }
    },
    {
      "cell_type": "code",
      "source": [
        "# oop\n",
        "\n",
        "# Define a class named Dog\n",
        "class Dog:\n",
        "    # Constructor to initialize the object's attributes\n",
        "    def __init__(self, name, breed):\n",
        "        self.name = name  # Instance variable for the dog's name\n",
        "        self.breed = breed  # Instance variable for the dog's breed\n",
        "\n",
        "    # Method to make the dog bark\n",
        "    def bark(self):\n",
        "        print(\"Woof! My name is\", self.name)\n",
        "\n",
        "    # Method to describe the dog\n",
        "    def describe(self):\n",
        "        print(f\"{self.name} is a {self.breed}.\")\n",
        "\n",
        "\n",
        "# Create instances (objects) of the Dog class\n",
        "dog1 = Dog(\"Buddy\", \"Golden Retriever\")\n",
        "dog2 = Dog(\"Lucy\", \"Labrador\")\n",
        "\n",
        "\n",
        "# Call methods on the objects\n",
        "dog1.bark()  # Output: Woof! My name is Buddy\n",
        "dog2.describe() # Output: Lucy is a Labrador.\n",
        "\n",
        "dog1.describe() # Output: Buddy is a Golden Retriever."
      ],
      "metadata": {
        "colab": {
          "base_uri": "https://localhost:8080/"
        },
        "id": "6NkUgBwaVWRu",
        "outputId": "3abe430f-350b-4bca-ec1f-526a0f4d83e2"
      },
      "execution_count": 13,
      "outputs": [
        {
          "output_type": "stream",
          "name": "stdout",
          "text": [
            "Woof! My name is Buddy\n",
            "Lucy is a Labrador.\n",
            "Buddy is a Golden Retriever.\n"
          ]
        }
      ]
    },
    {
      "cell_type": "code",
      "source": [
        "class Person :\n",
        "  name=\"Raisa\"\n",
        "  occupation=\"Software Developer\"\n",
        "  def info(self):\n",
        "    print(f\"{self.name} is a {self.occupation}.\")\n",
        "\n",
        "a=Person()\n",
        "a.name=\"Tasnim\"\n",
        "print(a.name)\n",
        "print(a.occupation)\n",
        "a.info()"
      ],
      "metadata": {
        "colab": {
          "base_uri": "https://localhost:8080/"
        },
        "id": "j3iQPgGiWiAX",
        "outputId": "7eeb0947-6d1e-4f04-f956-6a7023d7992c"
      },
      "execution_count": 5,
      "outputs": [
        {
          "output_type": "stream",
          "name": "stdout",
          "text": [
            "Tasnim\n",
            "Software Developer\n",
            "Tasnim is a Software Developer.\n"
          ]
        }
      ]
    },
    {
      "cell_type": "code",
      "source": [
        "# constructor in oop\n",
        "\n",
        "class MyClass:\n",
        "    def __init__(self, name,age):\n",
        "        self.name = name\n",
        "        self.age = age\n",
        "\n",
        "    def info(self) :\n",
        "      print(f\"{self.name} is {self.age} years old\")\n",
        "\n",
        "    def print_value(self):\n",
        "        print(self.name)\n",
        "        print(self.age)\n",
        "\n",
        "# Create an instance of MyClass\n",
        "obj = MyClass(\"Tasnim\",\"x\")  # The constructor is automatically called\n",
        "obj.info()\n",
        "# Call the print_value method\n",
        "obj.print_value()  # Output: 10"
      ],
      "metadata": {
        "colab": {
          "base_uri": "https://localhost:8080/"
        },
        "id": "AaoWJJzOijiY",
        "outputId": "51268a55-64a0-4fbc-9a7f-e90145e6a76d"
      },
      "execution_count": 12,
      "outputs": [
        {
          "output_type": "stream",
          "name": "stdout",
          "text": [
            "Tasnim is x years old\n",
            "Tasnim\n",
            "x\n"
          ]
        }
      ]
    },
    {
      "cell_type": "code",
      "source": [
        "# prompt: all about decorators\n",
        "\n",
        "def my_decorator(func):\n",
        "    def wrapper():\n",
        "        print(\"Something is happening before the function is called.\")\n",
        "        func()\n",
        "        print(\"Something is happening after the function is called.\")\n",
        "    return wrapper\n",
        "\n",
        "@my_decorator\n",
        "def say_whee():\n",
        "    print(\"Whee!\")\n",
        "\n",
        "say_whee()\n",
        "\n",
        "\n",
        "#Example with arguments\n",
        "\n",
        "def repeat(num_times):\n",
        "    def decorator_repeat(func):\n",
        "        def wrapper(*args, **kwargs):\n",
        "            for _ in range(num_times):\n",
        "                result = func(*args, **kwargs)\n",
        "            return result\n",
        "        return wrapper\n",
        "    return decorator_repeat\n",
        "\n",
        "@repeat(num_times=4)\n",
        "def greet(name):\n",
        "    print(f\"Hello {name}\")\n",
        "\n",
        "greet(\"World\")\n",
        "\n",
        "\n",
        "#Example with return values\n",
        "\n",
        "def make_bold(fn):\n",
        "    def makebold_wrapper():\n",
        "        return \"<b>\" + fn() + \"</b>\"\n",
        "    return makebold_wrapper\n",
        "\n",
        "def make_italic(fn):\n",
        "    def makeitalic_wrapper():\n",
        "        return \"<i>\" + fn() + \"</i>\"\n",
        "    return makeitalic_wrapper\n",
        "\n",
        "@make_bold\n",
        "@make_italic\n",
        "def hello():\n",
        "    return \"hello world\"\n",
        "\n",
        "print(hello()) ## returns \"<b><i>hello world</i></b>\"\n",
        "\n",
        "\n",
        "#A more general example\n",
        "\n",
        "import functools\n",
        "\n",
        "def decorator(func):\n",
        "    @functools.wraps(func) # Preserves the original function metadata\n",
        "    def wrapper_decorator(*args, **kwargs):\n",
        "        # Do something before\n",
        "        value = func(*args, **kwargs)\n",
        "        # Do something after\n",
        "        return value\n",
        "    return wrapper_decorator\n",
        "\n",
        "@decorator\n",
        "def say_hi(name):\n",
        "    \"\"\"This is a docstring\"\"\"\n",
        "    print(f\"Hi {name}\")\n",
        "    return \"Hi!\"\n",
        "\n",
        "print(say_hi.__name__) # Outputs \"say_hi\" (without functools.wraps it would output \"wrapper_decorator\")\n",
        "print(say_hi.__doc__)  # Outputs the docstring correctly"
      ],
      "metadata": {
        "id": "WePpmjrrxSSj"
      },
      "execution_count": null,
      "outputs": []
    }
  ]
}