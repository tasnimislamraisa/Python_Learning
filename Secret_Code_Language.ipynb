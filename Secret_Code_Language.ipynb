{
  "nbformat": 4,
  "nbformat_minor": 0,
  "metadata": {
    "colab": {
      "provenance": [],
      "authorship_tag": "ABX9TyP4K3Xc/81dp0FlJ+agICzA",
      "include_colab_link": true
    },
    "kernelspec": {
      "name": "python3",
      "display_name": "Python 3"
    },
    "language_info": {
      "name": "python"
    }
  },
  "cells": [
    {
      "cell_type": "markdown",
      "metadata": {
        "id": "view-in-github",
        "colab_type": "text"
      },
      "source": [
        "<a href=\"https://colab.research.google.com/github/TasnimIslamRaisa/Python_Learning/blob/cwh/Secret_Code_Language.ipynb\" target=\"_parent\"><img src=\"https://colab.research.google.com/assets/colab-badge.svg\" alt=\"Open In Colab\"/></a>"
      ]
    },
    {
      "cell_type": "code",
      "execution_count": null,
      "metadata": {
        "id": "zvavvTaL846u"
      },
      "outputs": [],
      "source": [
        "# write a python program to translate a msg into secret code language.use the rulse below: if the word contains atleast 3 char remove the 1st letter and append it at the end ,now append three random chars at the starting and the end. else simply reverse. Decoding , if the word contain less then 3 char reverse it,else remove 3 random char from start and end. now remove the last letter and append it to the beginning . Your program shoud ask whether you want to code or decode\n",
        "\n",
        "import random\n",
        "import string\n",
        "\"\"\"\n",
        "word = raisa\n",
        "new_word = word[1:] + word[0]\n",
        "         = aisa + r\n",
        "new_word= aisar\n",
        "xxxaisarxxx\n",
        "\"\"\"\n",
        "def code(word):\n",
        "    if len(word) >= 3:\n",
        "        new_word = word[1:] + word[0]\n",
        "        random_chars1 = ''.join(random.choice(string.ascii_lowercase) for i in range(3))\n",
        "        random_chars2 = ''.join(random.choice(string.ascii_lowercase) for i in range(3))\n",
        "        return random_chars1 + new_word + random_chars2\n",
        "    else:\n",
        "        return word[::-1]\n",
        "        #return reverse(word)\n",
        "\n",
        "def decode(word):\n",
        "    if len(word) < 3:\n",
        "        return word[::-1]\n",
        "    else:\n",
        "        new_word = word[3:-3]\n",
        "        decoded_word = new_word[-1] + new_word[:-1]\n",
        "        return decoded_word\n",
        "\n",
        "choice = input(\"Do you want to code or decode a message? \").lower()\n",
        "\n",
        "\n",
        "if choice == \"code\":\n",
        "  msg = input(\"Enter your message: \")\n",
        "  words = msg.split()\n",
        "  coded_msg = [code(word) for word in words]\n",
        "  print(\"Coded message:\", ' '.join(coded_msg))\n",
        "\n",
        "elif choice == \"decode\":\n",
        "  msg = input(\"Enter your message: \")\n",
        "  words = msg.split()\n",
        "  decoded_msg = [decode(word) for word in words]\n",
        "  print(\"Decoded message:\", ' '.join(decoded_msg))\n",
        "\n",
        "else:\n",
        "  print(\"Invalid input. Please choose 'code' or 'decode'\")\n"
      ]
    }
  ]
}