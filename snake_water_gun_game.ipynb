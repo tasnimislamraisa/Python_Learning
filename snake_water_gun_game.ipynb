{
  "nbformat": 4,
  "nbformat_minor": 0,
  "metadata": {
    "colab": {
      "provenance": [],
      "authorship_tag": "ABX9TyOIK524CT7eeSNCwRNIDMoD",
      "include_colab_link": true
    },
    "kernelspec": {
      "name": "python3",
      "display_name": "Python 3"
    },
    "language_info": {
      "name": "python"
    }
  },
  "cells": [
    {
      "cell_type": "markdown",
      "metadata": {
        "id": "view-in-github",
        "colab_type": "text"
      },
      "source": [
        "<a href=\"https://colab.research.google.com/github/TasnimIslamRaisa/Python_Learning/blob/cwh/snake_water_gun_game.ipynb\" target=\"_parent\"><img src=\"https://colab.research.google.com/assets/colab-badge.svg\" alt=\"Open In Colab\"/></a>"
      ]
    },
    {
      "cell_type": "code",
      "execution_count": 38,
      "metadata": {
        "colab": {
          "base_uri": "https://localhost:8080/"
        },
        "id": "pVdwQXpLQRVK",
        "outputId": "5cf797b9-7267-458c-e6d1-27bd0bf6d4c0"
      },
      "outputs": [
        {
          "output_type": "stream",
          "name": "stdout",
          "text": [
            "Welcome to Snack - Water - Gun Game !\n",
            "---------------------------------------\n",
            "Enter your choice : \n",
            "0 for Snake, 1 for Water, 2 for Gun :  \n",
            "---------------------------------------\n",
            "1\n",
            "You chose :  1\n",
            "Computer chose :  2\n",
            "You lost\n"
          ]
        }
      ],
      "source": [
        "#                 S W G\n",
        "# computer =      0 1 2\n",
        "# player =  S  0  D W L\n",
        "#           W  1  L D W\n",
        "#           G  2  W L D\n",
        "\n",
        "def check(computer,user):\n",
        "    if computer==user:\n",
        "        return 0\n",
        "    elif computer==0 and user == 1 :\n",
        "      return -1\n",
        "    elif computer == 1 and user == 2 :\n",
        "      return -1\n",
        "    elif computer ==2 and user ==0 :\n",
        "      return -1\n",
        "    return 1\n",
        "\n",
        "\n",
        "import random\n",
        "print(\"Welcome to Snack - Water - Gun Game !\")\n",
        "print(\"---------------------------------------\")\n",
        "print(\"Enter your choice : \")\n",
        "print(\"0 for Snake, 1 for Water, 2 for Gun :  \")\n",
        "print(\"---------------------------------------\")\n",
        "user=int(input())\n",
        "print(\"You chose : \",user)\n",
        "computer=random.randint(0,2)\n",
        "print(\"Computer chose : \",computer)\n",
        "\n",
        "score = check(computer,user)\n",
        "if score == 0 :\n",
        "  print(\"Draw\")\n",
        "elif score == -1 :\n",
        "  print(\"You won\")\n",
        "else :\n",
        "  print(\"You lost\")"
      ]
    }
  ]
}